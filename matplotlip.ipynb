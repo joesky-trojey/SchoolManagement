
#print (students.dtypes)

# import numpy as np
# import matplotlib.pyplot as plt
# def gen_stock_price(days, initial_price):
#     # stock price grows or shrinks linearly
#     # not exceeding 10% per year (heuristic)
#     trend = initial_price * (np.arange(days) * .1 / 365 * np.random.rand() * np.random.choice([1, -1]) + 1)
#     # noise will be about 2%
#     noise = .02 * np.random.randn(len(trend)) * trend
#     return trend + noise

# days = 365
# initial_prices = [80, 70, 65]
# for price in initial_prices:
#     plt.plot(np.arange(-days, 0), gen_stock_price(days, price))
# plt.title('Stock price history for last %d days' % days)
# plt.xlabel('Time (days)')
# plt.ylabel('Price (USD)')
# plt.legend(['Company A', 'Company B', 'Company C'])
# import numpy as np
# import time

# list_of_lists=[
#     [1,2],
#     [3,4,5],
#     [6,7,8,9]
# ]
# print('original array')
# print(list_of_lists)
# print('\n')


# numpy_array=np.array(list_of_lists)
# print('Numpy array')
# print(numpy_array)
# print('\n')

# print (sum(list_of_lists[0]))


# print((127+146+155+154)/4)
#print (sum(sum(inner_list) for inner_list in list_of_lists))



# class book():
#     def __init__(self,title):
#         self.title=title
#     def setNumberOfPages(self,pages):
#         self.__no_of_pages=pages

# book1=book("Secret of living upto 100 years")
# book1.setNumberOfPages(500)


# print(book1.__dict__)

# list1=[i for i i